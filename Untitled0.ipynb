{
  "nbformat": 4,
  "nbformat_minor": 0,
  "metadata": {
    "colab": {
      "name": "Untitled0.ipynb",
      "provenance": [],
      "authorship_tag": "ABX9TyMzwluhxWNcGfgosI4IPcb0",
      "include_colab_link": true
    },
    "kernelspec": {
      "name": "python3",
      "display_name": "Python 3"
    },
    "language_info": {
      "name": "python"
    }
  },
  "cells": [
    {
      "cell_type": "markdown",
      "metadata": {
        "id": "view-in-github",
        "colab_type": "text"
      },
      "source": [
        "<a href=\"https://colab.research.google.com/github/merve-sanli/EESEC440/blob/main/Untitled0.ipynb\" target=\"_parent\"><img src=\"https://colab.research.google.com/assets/colab-badge.svg\" alt=\"Open In Colab\"/></a>"
      ]
    },
    {
      "cell_type": "code",
      "metadata": {
        "id": "aI2pY82HSu9P"
      },
      "source": [
        ""
      ],
      "execution_count": null,
      "outputs": []
    },
    {
      "cell_type": "markdown",
      "metadata": {
        "id": "iGAKFtKOS-TK"
      },
      "source": [
        "\n",
        "En başta kütüphaneleri dahil ediyoruz.\n",
        "\n",
        "First we import the libraries."
      ]
    },
    {
      "cell_type": "code",
      "metadata": {
        "id": "KByTswo0T3P2"
      },
      "source": [
        "import tensorflow as tf # Google tarafından geliştirilen TF kütüphanesi, en ciddi rakibi Facebook tarfından geliştirilen Pytorch kütüphanesi\n",
        "import matplotlib.pyplot as plt # grafik çizdirmek için\n",
        "import numpy as np # numerical python kütüphanesi\n",
        "import pandas as pd\n",
        "import sys\n",
        "from numpy import random # rasgele veri üretmek için kullanacağımız kütüphane"
      ],
      "execution_count": 1,
      "outputs": []
    },
    {
      "cell_type": "markdown",
      "metadata": {
        "id": "VKqiXePqUHJu"
      },
      "source": [
        "\n",
        "Bugün bakacağımız örnekte kendimiz sentetik 2-boyutlu veri üretip ardından bu veriyi etiketleyeceğiz. Üreteceğimiz 2-boyutlu veri toplam n=1000 tane olacak. Bu veri kartezyen koordinat sistemi üzerinde x ve y eksenlerinde -1'den 1'e kadar yer alan aralıkta değer alan rasgele noktalar şeklinde düşünülebilir. Kartezyen koordinat sisteminde x ekseni x1, y ekseni ise x2 isimlendirilecek. Burada x = (x1, x2)T bizim özellik vektörümüz.\n"
      ]
    },
    {
      "cell_type": "code",
      "metadata": {
        "id": "05wikSnuUQRE"
      },
      "source": [
        "n = 1000 # veri sayısı n = 20 (n = 1000 bu örnek için iyi bir seçim)\n",
        "x = 2*random.rand(n,2)-1\n",
        "#print(x)\n",
        "#print(x[0,1])\n"
      ],
      "execution_count": 4,
      "outputs": []
    },
    {
      "cell_type": "markdown",
      "metadata": {
        "id": "H0m16E16Uapk"
      },
      "source": [
        "Rasgele ürettiğimiz veriyi şimdi çizdirelim.\n",
        "\n",
        "Now let's plot the randomly generated 2d data."
      ]
    },
    {
      "cell_type": "code",
      "metadata": {
        "colab": {
          "base_uri": "https://localhost:8080/",
          "height": 312
        },
        "id": "80QcTkpeUzSo",
        "outputId": "ebde4155-2c3d-4f5f-c638-413f2d7eeb75"
      },
      "source": [
        "plt.scatter(x[:,0],x[:,1], marker='.', color='b')\n",
        "# plt.legend(loc='upper right')\n",
        "plt.title(\"Generated 2d data\")\n",
        "plt.xlabel(\"x1\")\n",
        "plt.ylabel(\"x2\")"
      ],
      "execution_count": 7,
      "outputs": [
        {
          "output_type": "execute_result",
          "data": {
            "text/plain": [
              "Text(0, 0.5, 'x2')"
            ]
          },
          "metadata": {
            "tags": []
          },
          "execution_count": 7
        },
        {
          "output_type": "display_data",
          "data": {
            "image/png": "[encoded data removed]",
            "text/plain": [
              "<Figure size 432x288 with 1 Axes>"
            ]
          },
          "metadata": {
            "tags": [],
            "needs_background": "light"
          }
        }
      ]
    },
    {
      "cell_type": "markdown",
      "metadata": {
        "id": "bhySvU-8VFA_"
      },
      "source": [
        "Şimdi hedef verisini (target data) oluşturalım. Yani ürettiğimiz veriyi etiketleyelim (data annotation). Sınıflandırmayı dilediğimiz gibi yapabiliriz bu örnekte. Burada biz birim çember içersinde yer alan noktaları 1, dışında kalan noktaları 0 olarak etiketleyeceğiz."
      ]
    },
    {
      "cell_type": "code",
      "metadata": {
        "id": "Tkf3vTKtVKhO"
      },
      "source": [
        "t = np.zeros((n,1))\n",
        "#print(t)\n",
        "for i, point in enumerate(x):\n",
        "  if (point[0]**2 + point[1]**2) >= 1:\n",
        "    t[i] = 1\n",
        "#print(\"Güncellenmiş hedef verisini yazdıralım.\")\n",
        "#print(t)"
      ],
      "execution_count": 8,
      "outputs": []
    },
    {
      "cell_type": "markdown",
      "metadata": {
        "id": "ufbhAwRjVSaw"
      },
      "source": [
        "Şimdi tekrar 2b veriyi görselleştirelim ama bu sefer birim çemberin içinde kalan veriyi (yani 1 etiketine sahip olan noktaları) kırmızı renkte çizdirelim."
      ]
    },
    {
      "cell_type": "code",
      "metadata": {
        "colab": {
          "base_uri": "https://localhost:8080/",
          "height": 312
        },
        "id": "1Wr9tXd3VTU0",
        "outputId": "1249a177-f8de-4281-c95a-3b5ea25421c3"
      },
      "source": [
        "for i, label in enumerate(t):\n",
        "  if (label):\n",
        "    plt.scatter(x[i,0],x[i,1], marker='.', color='r') # edgecolors='none'\n",
        "  else:\n",
        "    plt.scatter(x[i,0],x[i,1], marker='.', color='b') # edgecolors='none'\n",
        "plt.title(\"Generated 2d data\")\n",
        "plt.xlabel(\"x1\")\n",
        "plt.ylabel(\"x2\")"
      ],
      "execution_count": 9,
      "outputs": [
        {
          "output_type": "execute_result",
          "data": {
            "text/plain": [
              "Text(0, 0.5, 'x2')"
            ]
          },
          "metadata": {
            "tags": []
          },
          "execution_count": 9
        },
        {
          "output_type": "display_data",
          "data": {
            "image/png": "[encoded data removed]",
            "text/plain": [
              "<Figure size 432x288 with 1 Axes>"
            ]
          },
          "metadata": {
            "tags": [],
            "needs_background": "light"
          }
        }
      ]
    },
    {
      "cell_type": "markdown",
      "metadata": {
        "id": "ue4yjVMcVdxh"
      },
      "source": [
        "TF kütüphanesinin içerisinde yer alan Keras kütüphanesiyle bir tane çok katmanlı sinir ağı (multi-layer perceptron - MLP) oluşturalım. Giriş sayısının iki, çıkış sayısının bir olduğunu, gizli katman (hidden layer) sayısını ve bu katmanlardaki nöron sayısını (number of neurons) ve de hangi aktivasyon fonksiyonunu (activation function) kullandığımızı adım adım seçeceğiz.\n"
      ]
    },
    {
      "cell_type": "code",
      "metadata": {
        "id": "x5fKlrxoVfUx"
      },
      "source": [
        "model = tf.keras.models.Sequential(layers=None, name='2d_classifier_MLP')\n",
        "model.add(tf.keras.layers.Dense(20, input_dim = 2, activation = 'tanh', name='HL1'))\n",
        "model.add(tf.keras.layers.Dense(30, activation = 'tanh', name='HL2'))\n",
        "model.add(tf.keras.layers.Dense(40, activation = 'tanh', name='HL3'))\n",
        "model.add(tf.keras.layers.Dense(30, activation = 'tanh', name='HL4'))\n",
        "model.add(tf.keras.layers.Dense(1, activation = 'tanh', name='outputLayer'))"
      ],
      "execution_count": 11,
      "outputs": []
    },
    {
      "cell_type": "markdown",
      "metadata": {
        "id": "s-4WkuYpVoKP"
      },
      "source": [
        "Yukarıdaki kodda yapay sinir ağımızın yapısını (structure) yani katman sayısı, katmanlardaki nöron miktarı, nöron çıkışlarında kullanılan aktivasyon fonksiyon tiplerini belirledik. Bir sonraki adım olarak öğrenme (learning) işlemini başlatacağız. Şimdi öğrenme işleminin nasıl olacağını belirleyelim."
      ]
    },
    {
      "cell_type": "code",
      "metadata": {
        "colab": {
          "base_uri": "https://localhost:8080/"
        },
        "id": "GKVpD3FHVpOm",
        "outputId": "25ae9e95-6b48-4454-b0ce-c4543a3b48b6"
      },
      "source": [
        "model.compile(optimizer='adam', loss='mean_squared_error', metrics='accuracy')\n",
        "model.summary()"
      ],
      "execution_count": 12,
      "outputs": [
        {
          "output_type": "stream",
          "text": [
            "Model: \"2d_classifier_MLP\"\n",
            "_________________________________________________________________\n",
            "Layer (type)                 Output Shape              Param #   \n",
            "=================================================================\n",
            "HL1 (Dense)                  (None, 20)                60        \n",
            "_________________________________________________________________\n",
            "HL2 (Dense)                  (None, 30)                630       \n",
            "_________________________________________________________________\n",
            "HL3 (Dense)                  (None, 40)                1240      \n",
            "_________________________________________________________________\n",
            "HL4 (Dense)                  (None, 30)                1230      \n",
            "_________________________________________________________________\n",
            "outputLayer (Dense)          (None, 1)                 31        \n",
            "=================================================================\n",
            "Total params: 3,191\n",
            "Trainable params: 3,191\n",
            "Non-trainable params: 0\n",
            "_________________________________________________________________\n"
          ],
          "name": "stdout"
        }
      ]
    },
    {
      "cell_type": "markdown",
      "metadata": {
        "id": "38EeRvxsVwMk"
      },
      "source": [
        "\n",
        "Son olarak konfigürasyonunu tamamladığımız çok katmanlı yapay sinir ağının eğitimini başlatıyoruz."
      ]
    },
    {
      "cell_type": "code",
      "metadata": {
        "colab": {
          "base_uri": "https://localhost:8080/"
        },
        "id": "-2o6qrcWV4_B",
        "outputId": "bcee96fa-f7e1-45aa-db24-c61caf6a0acc"
      },
      "source": [
        "history = model.fit(x, t, epochs=200, verbose=1, validation_split=0.2)"
      ],
      "execution_count": 13,
      "outputs": [
        {
          "output_type": "stream",
          "text": [
            "Epoch 1/200\n",
            "25/25 [==============================] - 1s 19ms/step - loss: 0.1937 - accuracy: 0.7863 - val_loss: 0.1681 - val_accuracy: 0.8000\n",
            "Epoch 2/200\n",
            "25/25 [==============================] - 0s 2ms/step - loss: 0.1814 - accuracy: 0.7723 - val_loss: 0.1719 - val_accuracy: 0.8000\n",
            "Epoch 3/200\n",
            "25/25 [==============================] - 0s 2ms/step - loss: 0.1958 - accuracy: 0.7499 - val_loss: 0.1650 - val_accuracy: 0.8000\n",
            "Epoch 4/200\n",
            "25/25 [==============================] - 0s 2ms/step - loss: 0.1639 - accuracy: 0.7974 - val_loss: 0.1618 - val_accuracy: 0.8000\n",
            "Epoch 5/200\n",
            "25/25 [==============================] - 0s 2ms/step - loss: 0.1753 - accuracy: 0.7759 - val_loss: 0.1605 - val_accuracy: 0.8000\n",
            "Epoch 6/200\n",
            "25/25 [==============================] - 0s 2ms/step - loss: 0.1800 - accuracy: 0.7741 - val_loss: 0.1611 - val_accuracy: 0.8000\n",
            "Epoch 7/200\n",
            "25/25 [==============================] - 0s 3ms/step - loss: 0.1690 - accuracy: 0.7899 - val_loss: 0.1594 - val_accuracy: 0.8000\n",
            "Epoch 8/200\n",
            "25/25 [==============================] - 0s 3ms/step - loss: 0.1639 - accuracy: 0.7947 - val_loss: 0.1603 - val_accuracy: 0.8000\n",
            "Epoch 9/200\n",
            "25/25 [==============================] - 0s 3ms/step - loss: 0.1843 - accuracy: 0.7584 - val_loss: 0.1566 - val_accuracy: 0.8000\n",
            "Epoch 10/200\n",
            "25/25 [==============================] - 0s 2ms/step - loss: 0.1902 - accuracy: 0.7482 - val_loss: 0.1549 - val_accuracy: 0.8000\n",
            "Epoch 11/200\n",
            "25/25 [==============================] - 0s 3ms/step - loss: 0.1814 - accuracy: 0.7617 - val_loss: 0.1591 - val_accuracy: 0.8000\n",
            "Epoch 12/200\n",
            "25/25 [==============================] - 0s 2ms/step - loss: 0.1794 - accuracy: 0.7637 - val_loss: 0.1557 - val_accuracy: 0.8000\n",
            "Epoch 13/200\n",
            "25/25 [==============================] - 0s 2ms/step - loss: 0.1779 - accuracy: 0.7593 - val_loss: 0.1449 - val_accuracy: 0.8000\n",
            "Epoch 14/200\n",
            "25/25 [==============================] - 0s 2ms/step - loss: 0.1468 - accuracy: 0.7907 - val_loss: 0.1396 - val_accuracy: 0.8000\n",
            "Epoch 15/200\n",
            "25/25 [==============================] - 0s 2ms/step - loss: 0.1473 - accuracy: 0.7738 - val_loss: 0.1391 - val_accuracy: 0.8000\n",
            "Epoch 16/200\n",
            "25/25 [==============================] - 0s 2ms/step - loss: 0.1509 - accuracy: 0.7547 - val_loss: 0.1369 - val_accuracy: 0.7900\n",
            "Epoch 17/200\n",
            "25/25 [==============================] - 0s 3ms/step - loss: 0.1406 - accuracy: 0.7823 - val_loss: 0.1436 - val_accuracy: 0.7900\n",
            "Epoch 18/200\n",
            "25/25 [==============================] - 0s 2ms/step - loss: 0.1453 - accuracy: 0.7893 - val_loss: 0.1380 - val_accuracy: 0.8000\n",
            "Epoch 19/200\n",
            "25/25 [==============================] - 0s 2ms/step - loss: 0.1295 - accuracy: 0.8015 - val_loss: 0.1446 - val_accuracy: 0.8000\n",
            "Epoch 20/200\n",
            "25/25 [==============================] - 0s 2ms/step - loss: 0.1261 - accuracy: 0.8218 - val_loss: 0.1381 - val_accuracy: 0.8000\n",
            "Epoch 21/200\n",
            "25/25 [==============================] - 0s 3ms/step - loss: 0.1289 - accuracy: 0.8076 - val_loss: 0.1381 - val_accuracy: 0.8150\n",
            "Epoch 22/200\n",
            "25/25 [==============================] - 0s 2ms/step - loss: 0.1312 - accuracy: 0.7751 - val_loss: 0.1304 - val_accuracy: 0.8100\n",
            "Epoch 23/200\n",
            "25/25 [==============================] - 0s 2ms/step - loss: 0.1351 - accuracy: 0.7844 - val_loss: 0.1349 - val_accuracy: 0.8050\n",
            "Epoch 24/200\n",
            "25/25 [==============================] - 0s 2ms/step - loss: 0.1249 - accuracy: 0.8287 - val_loss: 0.1273 - val_accuracy: 0.8150\n",
            "Epoch 25/200\n",
            "25/25 [==============================] - 0s 2ms/step - loss: 0.1112 - accuracy: 0.8283 - val_loss: 0.1259 - val_accuracy: 0.8200\n",
            "Epoch 26/200\n",
            "25/25 [==============================] - 0s 3ms/step - loss: 0.1273 - accuracy: 0.7941 - val_loss: 0.1348 - val_accuracy: 0.8250\n",
            "Epoch 27/200\n",
            "25/25 [==============================] - 0s 2ms/step - loss: 0.1241 - accuracy: 0.8157 - val_loss: 0.1242 - val_accuracy: 0.8150\n",
            "Epoch 28/200\n",
            "25/25 [==============================] - 0s 2ms/step - loss: 0.1191 - accuracy: 0.8245 - val_loss: 0.1261 - val_accuracy: 0.8250\n",
            "Epoch 29/200\n",
            "25/25 [==============================] - 0s 2ms/step - loss: 0.1221 - accuracy: 0.8231 - val_loss: 0.1212 - val_accuracy: 0.8000\n",
            "Epoch 30/200\n",
            "25/25 [==============================] - 0s 3ms/step - loss: 0.1159 - accuracy: 0.8121 - val_loss: 0.1090 - val_accuracy: 0.8600\n",
            "Epoch 31/200\n",
            "25/25 [==============================] - 0s 2ms/step - loss: 0.1064 - accuracy: 0.8505 - val_loss: 0.1110 - val_accuracy: 0.9150\n",
            "Epoch 32/200\n",
            "25/25 [==============================] - 0s 3ms/step - loss: 0.1033 - accuracy: 0.8774 - val_loss: 0.1073 - val_accuracy: 0.8850\n",
            "Epoch 33/200\n",
            "25/25 [==============================] - 0s 2ms/step - loss: 0.1012 - accuracy: 0.8794 - val_loss: 0.0997 - val_accuracy: 0.9300\n",
            "Epoch 34/200\n",
            "25/25 [==============================] - 0s 2ms/step - loss: 0.0985 - accuracy: 0.8702 - val_loss: 0.1193 - val_accuracy: 0.9000\n",
            "Epoch 35/200\n",
            "25/25 [==============================] - 0s 2ms/step - loss: 0.0971 - accuracy: 0.8951 - val_loss: 0.0903 - val_accuracy: 0.9150\n",
            "Epoch 36/200\n",
            "25/25 [==============================] - 0s 3ms/step - loss: 0.0942 - accuracy: 0.8919 - val_loss: 0.0951 - val_accuracy: 0.9100\n",
            "Epoch 37/200\n",
            "25/25 [==============================] - 0s 3ms/step - loss: 0.0998 - accuracy: 0.8747 - val_loss: 0.0947 - val_accuracy: 0.9350\n",
            "Epoch 38/200\n",
            "25/25 [==============================] - 0s 3ms/step - loss: 0.0934 - accuracy: 0.9186 - val_loss: 0.0963 - val_accuracy: 0.9000\n",
            "Epoch 39/200\n",
            "25/25 [==============================] - 0s 3ms/step - loss: 0.0948 - accuracy: 0.8874 - val_loss: 0.0927 - val_accuracy: 0.9100\n",
            "Epoch 40/200\n",
            "25/25 [==============================] - 0s 2ms/step - loss: 0.0868 - accuracy: 0.9184 - val_loss: 0.0886 - val_accuracy: 0.9300\n",
            "Epoch 41/200\n",
            "25/25 [==============================] - 0s 2ms/step - loss: 0.0844 - accuracy: 0.9123 - val_loss: 0.0947 - val_accuracy: 0.9450\n",
            "Epoch 42/200\n",
            "25/25 [==============================] - 0s 2ms/step - loss: 0.0895 - accuracy: 0.9193 - val_loss: 0.1012 - val_accuracy: 0.9300\n",
            "Epoch 43/200\n",
            "25/25 [==============================] - 0s 2ms/step - loss: 0.0948 - accuracy: 0.9319 - val_loss: 0.0839 - val_accuracy: 0.9200\n",
            "Epoch 44/200\n",
            "25/25 [==============================] - 0s 3ms/step - loss: 0.0880 - accuracy: 0.9164 - val_loss: 0.0846 - val_accuracy: 0.9100\n",
            "Epoch 45/200\n",
            "25/25 [==============================] - 0s 3ms/step - loss: 0.0902 - accuracy: 0.9221 - val_loss: 0.0884 - val_accuracy: 0.9150\n",
            "Epoch 46/200\n",
            "25/25 [==============================] - 0s 2ms/step - loss: 0.0893 - accuracy: 0.9123 - val_loss: 0.0897 - val_accuracy: 0.8550\n",
            "Epoch 47/200\n",
            "25/25 [==============================] - 0s 3ms/step - loss: 0.0848 - accuracy: 0.9285 - val_loss: 0.0845 - val_accuracy: 0.9250\n",
            "Epoch 48/200\n",
            "25/25 [==============================] - 0s 3ms/step - loss: 0.0806 - accuracy: 0.9187 - val_loss: 0.0785 - val_accuracy: 0.9450\n",
            "Epoch 49/200\n",
            "25/25 [==============================] - 0s 3ms/step - loss: 0.0799 - accuracy: 0.9392 - val_loss: 0.0876 - val_accuracy: 0.9500\n",
            "Epoch 50/200\n",
            "25/25 [==============================] - 0s 3ms/step - loss: 0.0845 - accuracy: 0.9343 - val_loss: 0.0759 - val_accuracy: 0.9350\n",
            "Epoch 51/200\n",
            "25/25 [==============================] - 0s 2ms/step - loss: 0.0828 - accuracy: 0.9253 - val_loss: 0.0781 - val_accuracy: 0.9500\n",
            "Epoch 52/200\n",
            "25/25 [==============================] - 0s 2ms/step - loss: 0.0770 - accuracy: 0.9348 - val_loss: 0.0787 - val_accuracy: 0.9650\n",
            "Epoch 53/200\n",
            "25/25 [==============================] - 0s 2ms/step - loss: 0.0757 - accuracy: 0.9376 - val_loss: 0.0771 - val_accuracy: 0.9650\n",
            "Epoch 54/200\n",
            "25/25 [==============================] - 0s 3ms/step - loss: 0.0734 - accuracy: 0.9557 - val_loss: 0.0752 - val_accuracy: 0.9550\n",
            "Epoch 55/200\n",
            "25/25 [==============================] - 0s 2ms/step - loss: 0.0764 - accuracy: 0.9458 - val_loss: 0.0806 - val_accuracy: 0.9550\n",
            "Epoch 56/200\n",
            "25/25 [==============================] - 0s 3ms/step - loss: 0.0680 - accuracy: 0.9569 - val_loss: 0.0745 - val_accuracy: 0.9650\n",
            "Epoch 57/200\n",
            "25/25 [==============================] - 0s 2ms/step - loss: 0.0691 - accuracy: 0.9693 - val_loss: 0.0662 - val_accuracy: 0.9500\n",
            "Epoch 58/200\n",
            "25/25 [==============================] - 0s 2ms/step - loss: 0.0678 - accuracy: 0.9420 - val_loss: 0.0742 - val_accuracy: 0.9200\n",
            "Epoch 59/200\n",
            "25/25 [==============================] - 0s 3ms/step - loss: 0.0659 - accuracy: 0.9408 - val_loss: 0.0806 - val_accuracy: 0.9450\n",
            "Epoch 60/200\n",
            "25/25 [==============================] - 0s 3ms/step - loss: 0.0682 - accuracy: 0.9390 - val_loss: 0.0669 - val_accuracy: 0.9400\n",
            "Epoch 61/200\n",
            "25/25 [==============================] - 0s 2ms/step - loss: 0.0656 - accuracy: 0.9493 - val_loss: 0.0596 - val_accuracy: 0.9600\n",
            "Epoch 62/200\n",
            "25/25 [==============================] - 0s 3ms/step - loss: 0.0628 - accuracy: 0.9500 - val_loss: 0.0597 - val_accuracy: 0.9500\n",
            "Epoch 63/200\n",
            "25/25 [==============================] - 0s 2ms/step - loss: 0.0543 - accuracy: 0.9591 - val_loss: 0.0658 - val_accuracy: 0.9550\n",
            "Epoch 64/200\n",
            "25/25 [==============================] - 0s 2ms/step - loss: 0.0602 - accuracy: 0.9551 - val_loss: 0.0552 - val_accuracy: 0.9650\n",
            "Epoch 65/200\n",
            "25/25 [==============================] - 0s 2ms/step - loss: 0.0547 - accuracy: 0.9567 - val_loss: 0.0668 - val_accuracy: 0.9450\n",
            "Epoch 66/200\n",
            "25/25 [==============================] - 0s 3ms/step - loss: 0.0613 - accuracy: 0.9347 - val_loss: 0.0527 - val_accuracy: 0.9700\n",
            "Epoch 67/200\n",
            "25/25 [==============================] - 0s 3ms/step - loss: 0.0536 - accuracy: 0.9607 - val_loss: 0.0558 - val_accuracy: 0.9550\n",
            "Epoch 68/200\n",
            "25/25 [==============================] - 0s 3ms/step - loss: 0.0552 - accuracy: 0.9471 - val_loss: 0.0583 - val_accuracy: 0.9550\n",
            "Epoch 69/200\n",
            "25/25 [==============================] - 0s 3ms/step - loss: 0.0528 - accuracy: 0.9645 - val_loss: 0.0498 - val_accuracy: 0.9650\n",
            "Epoch 70/200\n",
            "25/25 [==============================] - 0s 2ms/step - loss: 0.0477 - accuracy: 0.9566 - val_loss: 0.0507 - val_accuracy: 0.9650\n",
            "Epoch 71/200\n",
            "25/25 [==============================] - 0s 3ms/step - loss: 0.0487 - accuracy: 0.9478 - val_loss: 0.0490 - val_accuracy: 0.9600\n",
            "Epoch 72/200\n",
            "25/25 [==============================] - 0s 2ms/step - loss: 0.0468 - accuracy: 0.9581 - val_loss: 0.0513 - val_accuracy: 0.9650\n",
            "Epoch 73/200\n",
            "25/25 [==============================] - 0s 2ms/step - loss: 0.0518 - accuracy: 0.9348 - val_loss: 0.0437 - val_accuracy: 0.9600\n",
            "Epoch 74/200\n",
            "25/25 [==============================] - 0s 2ms/step - loss: 0.0433 - accuracy: 0.9641 - val_loss: 0.0503 - val_accuracy: 0.9650\n",
            "Epoch 75/200\n",
            "25/25 [==============================] - 0s 2ms/step - loss: 0.0463 - accuracy: 0.9479 - val_loss: 0.0544 - val_accuracy: 0.9500\n",
            "Epoch 76/200\n",
            "25/25 [==============================] - 0s 3ms/step - loss: 0.0500 - accuracy: 0.9501 - val_loss: 0.0447 - val_accuracy: 0.9600\n",
            "Epoch 77/200\n",
            "25/25 [==============================] - 0s 3ms/step - loss: 0.0411 - accuracy: 0.9637 - val_loss: 0.0396 - val_accuracy: 0.9650\n",
            "Epoch 78/200\n",
            "25/25 [==============================] - 0s 2ms/step - loss: 0.0444 - accuracy: 0.9593 - val_loss: 0.0403 - val_accuracy: 0.9700\n",
            "Epoch 79/200\n",
            "25/25 [==============================] - 0s 2ms/step - loss: 0.0425 - accuracy: 0.9626 - val_loss: 0.0422 - val_accuracy: 0.9550\n",
            "Epoch 80/200\n",
            "25/25 [==============================] - 0s 2ms/step - loss: 0.0394 - accuracy: 0.9699 - val_loss: 0.0388 - val_accuracy: 0.9600\n",
            "Epoch 81/200\n",
            "25/25 [==============================] - 0s 2ms/step - loss: 0.0382 - accuracy: 0.9680 - val_loss: 0.0450 - val_accuracy: 0.9650\n",
            "Epoch 82/200\n",
            "25/25 [==============================] - 0s 3ms/step - loss: 0.0391 - accuracy: 0.9685 - val_loss: 0.0434 - val_accuracy: 0.9600\n",
            "Epoch 83/200\n",
            "25/25 [==============================] - 0s 3ms/step - loss: 0.0403 - accuracy: 0.9581 - val_loss: 0.0408 - val_accuracy: 0.9600\n",
            "Epoch 84/200\n",
            "25/25 [==============================] - 0s 3ms/step - loss: 0.0378 - accuracy: 0.9597 - val_loss: 0.0390 - val_accuracy: 0.9650\n",
            "Epoch 85/200\n",
            "25/25 [==============================] - 0s 2ms/step - loss: 0.0407 - accuracy: 0.9569 - val_loss: 0.0368 - val_accuracy: 0.9650\n",
            "Epoch 86/200\n",
            "25/25 [==============================] - 0s 2ms/step - loss: 0.0397 - accuracy: 0.9616 - val_loss: 0.0442 - val_accuracy: 0.9600\n",
            "Epoch 87/200\n",
            "25/25 [==============================] - 0s 2ms/step - loss: 0.0397 - accuracy: 0.9588 - val_loss: 0.0372 - val_accuracy: 0.9600\n",
            "Epoch 88/200\n",
            "25/25 [==============================] - 0s 2ms/step - loss: 0.0398 - accuracy: 0.9576 - val_loss: 0.0349 - val_accuracy: 0.9650\n",
            "Epoch 89/200\n",
            "25/25 [==============================] - 0s 3ms/step - loss: 0.0339 - accuracy: 0.9749 - val_loss: 0.0340 - val_accuracy: 0.9600\n",
            "Epoch 90/200\n",
            "25/25 [==============================] - 0s 3ms/step - loss: 0.0424 - accuracy: 0.9615 - val_loss: 0.0430 - val_accuracy: 0.9600\n",
            "Epoch 91/200\n",
            "25/25 [==============================] - 0s 3ms/step - loss: 0.0397 - accuracy: 0.9562 - val_loss: 0.0378 - val_accuracy: 0.9650\n",
            "Epoch 92/200\n",
            "25/25 [==============================] - 0s 3ms/step - loss: 0.0393 - accuracy: 0.9552 - val_loss: 0.0376 - val_accuracy: 0.9650\n",
            "Epoch 93/200\n",
            "25/25 [==============================] - 0s 2ms/step - loss: 0.0325 - accuracy: 0.9617 - val_loss: 0.0368 - val_accuracy: 0.9550\n",
            "Epoch 94/200\n",
            "25/25 [==============================] - 0s 2ms/step - loss: 0.0325 - accuracy: 0.9667 - val_loss: 0.0391 - val_accuracy: 0.9450\n",
            "Epoch 95/200\n",
            "25/25 [==============================] - 0s 2ms/step - loss: 0.0324 - accuracy: 0.9635 - val_loss: 0.0359 - val_accuracy: 0.9550\n",
            "Epoch 96/200\n",
            "25/25 [==============================] - 0s 2ms/step - loss: 0.0301 - accuracy: 0.9752 - val_loss: 0.0349 - val_accuracy: 0.9700\n",
            "Epoch 97/200\n",
            "25/25 [==============================] - 0s 2ms/step - loss: 0.0364 - accuracy: 0.9533 - val_loss: 0.0384 - val_accuracy: 0.9650\n",
            "Epoch 98/200\n",
            "25/25 [==============================] - 0s 3ms/step - loss: 0.0357 - accuracy: 0.9532 - val_loss: 0.0386 - val_accuracy: 0.9550\n",
            "Epoch 99/200\n",
            "25/25 [==============================] - 0s 3ms/step - loss: 0.0392 - accuracy: 0.9609 - val_loss: 0.0373 - val_accuracy: 0.9650\n",
            "Epoch 100/200\n",
            "25/25 [==============================] - 0s 2ms/step - loss: 0.0285 - accuracy: 0.9720 - val_loss: 0.0387 - val_accuracy: 0.9650\n",
            "Epoch 101/200\n",
            "25/25 [==============================] - 0s 2ms/step - loss: 0.0265 - accuracy: 0.9787 - val_loss: 0.0376 - val_accuracy: 0.9500\n",
            "Epoch 102/200\n",
            "25/25 [==============================] - 0s 3ms/step - loss: 0.0283 - accuracy: 0.9737 - val_loss: 0.0342 - val_accuracy: 0.9700\n",
            "Epoch 103/200\n",
            "25/25 [==============================] - 0s 2ms/step - loss: 0.0333 - accuracy: 0.9663 - val_loss: 0.0295 - val_accuracy: 0.9750\n",
            "Epoch 104/200\n",
            "25/25 [==============================] - 0s 2ms/step - loss: 0.0321 - accuracy: 0.9685 - val_loss: 0.0380 - val_accuracy: 0.9550\n",
            "Epoch 105/200\n",
            "25/25 [==============================] - 0s 2ms/step - loss: 0.0387 - accuracy: 0.9547 - val_loss: 0.0311 - val_accuracy: 0.9650\n",
            "Epoch 106/200\n",
            "25/25 [==============================] - 0s 3ms/step - loss: 0.0325 - accuracy: 0.9664 - val_loss: 0.0353 - val_accuracy: 0.9600\n",
            "Epoch 107/200\n",
            "25/25 [==============================] - 0s 3ms/step - loss: 0.0351 - accuracy: 0.9577 - val_loss: 0.0325 - val_accuracy: 0.9700\n",
            "Epoch 108/200\n",
            "25/25 [==============================] - 0s 2ms/step - loss: 0.0263 - accuracy: 0.9735 - val_loss: 0.0307 - val_accuracy: 0.9700\n",
            "Epoch 109/200\n",
            "25/25 [==============================] - 0s 2ms/step - loss: 0.0314 - accuracy: 0.9587 - val_loss: 0.0412 - val_accuracy: 0.9550\n",
            "Epoch 110/200\n",
            "25/25 [==============================] - 0s 2ms/step - loss: 0.0315 - accuracy: 0.9723 - val_loss: 0.0268 - val_accuracy: 0.9700\n",
            "Epoch 111/200\n",
            "25/25 [==============================] - 0s 2ms/step - loss: 0.0325 - accuracy: 0.9605 - val_loss: 0.0333 - val_accuracy: 0.9600\n",
            "Epoch 112/200\n",
            "25/25 [==============================] - 0s 2ms/step - loss: 0.0363 - accuracy: 0.9569 - val_loss: 0.0387 - val_accuracy: 0.9550\n",
            "Epoch 113/200\n",
            "25/25 [==============================] - 0s 3ms/step - loss: 0.0307 - accuracy: 0.9649 - val_loss: 0.0261 - val_accuracy: 0.9700\n",
            "Epoch 114/200\n",
            "25/25 [==============================] - 0s 3ms/step - loss: 0.0250 - accuracy: 0.9786 - val_loss: 0.0325 - val_accuracy: 0.9550\n",
            "Epoch 115/200\n",
            "25/25 [==============================] - 0s 3ms/step - loss: 0.0253 - accuracy: 0.9732 - val_loss: 0.0352 - val_accuracy: 0.9550\n",
            "Epoch 116/200\n",
            "25/25 [==============================] - 0s 2ms/step - loss: 0.0299 - accuracy: 0.9656 - val_loss: 0.0342 - val_accuracy: 0.9700\n",
            "Epoch 117/200\n",
            "25/25 [==============================] - 0s 3ms/step - loss: 0.0222 - accuracy: 0.9778 - val_loss: 0.0365 - val_accuracy: 0.9600\n",
            "Epoch 118/200\n",
            "25/25 [==============================] - 0s 3ms/step - loss: 0.0293 - accuracy: 0.9657 - val_loss: 0.0291 - val_accuracy: 0.9700\n",
            "Epoch 119/200\n",
            "25/25 [==============================] - 0s 3ms/step - loss: 0.0289 - accuracy: 0.9617 - val_loss: 0.0335 - val_accuracy: 0.9650\n",
            "Epoch 120/200\n",
            "25/25 [==============================] - 0s 3ms/step - loss: 0.0349 - accuracy: 0.9600 - val_loss: 0.0375 - val_accuracy: 0.9600\n",
            "Epoch 121/200\n",
            "25/25 [==============================] - 0s 3ms/step - loss: 0.0276 - accuracy: 0.9700 - val_loss: 0.0354 - val_accuracy: 0.9500\n",
            "Epoch 122/200\n",
            "25/25 [==============================] - 0s 3ms/step - loss: 0.0287 - accuracy: 0.9623 - val_loss: 0.0269 - val_accuracy: 0.9650\n",
            "Epoch 123/200\n",
            "25/25 [==============================] - 0s 2ms/step - loss: 0.0274 - accuracy: 0.9800 - val_loss: 0.0244 - val_accuracy: 0.9700\n",
            "Epoch 124/200\n",
            "25/25 [==============================] - 0s 3ms/step - loss: 0.0281 - accuracy: 0.9699 - val_loss: 0.0282 - val_accuracy: 0.9700\n",
            "Epoch 125/200\n",
            "25/25 [==============================] - 0s 2ms/step - loss: 0.0260 - accuracy: 0.9763 - val_loss: 0.0302 - val_accuracy: 0.9650\n",
            "Epoch 126/200\n",
            "25/25 [==============================] - 0s 2ms/step - loss: 0.0306 - accuracy: 0.9690 - val_loss: 0.0316 - val_accuracy: 0.9600\n",
            "Epoch 127/200\n",
            "25/25 [==============================] - 0s 3ms/step - loss: 0.0306 - accuracy: 0.9633 - val_loss: 0.0289 - val_accuracy: 0.9600\n",
            "Epoch 128/200\n",
            "25/25 [==============================] - 0s 3ms/step - loss: 0.0267 - accuracy: 0.9676 - val_loss: 0.0376 - val_accuracy: 0.9500\n",
            "Epoch 129/200\n",
            "25/25 [==============================] - 0s 2ms/step - loss: 0.0320 - accuracy: 0.9613 - val_loss: 0.0346 - val_accuracy: 0.9650\n",
            "Epoch 130/200\n",
            "25/25 [==============================] - 0s 2ms/step - loss: 0.0270 - accuracy: 0.9690 - val_loss: 0.0292 - val_accuracy: 0.9650\n",
            "Epoch 131/200\n",
            "25/25 [==============================] - 0s 2ms/step - loss: 0.0232 - accuracy: 0.9761 - val_loss: 0.0313 - val_accuracy: 0.9600\n",
            "Epoch 132/200\n",
            "25/25 [==============================] - 0s 3ms/step - loss: 0.0254 - accuracy: 0.9708 - val_loss: 0.0223 - val_accuracy: 0.9700\n",
            "Epoch 133/200\n",
            "25/25 [==============================] - 0s 2ms/step - loss: 0.0221 - accuracy: 0.9819 - val_loss: 0.0307 - val_accuracy: 0.9550\n",
            "Epoch 134/200\n",
            "25/25 [==============================] - 0s 2ms/step - loss: 0.0273 - accuracy: 0.9635 - val_loss: 0.0291 - val_accuracy: 0.9600\n",
            "Epoch 135/200\n",
            "25/25 [==============================] - 0s 2ms/step - loss: 0.0260 - accuracy: 0.9727 - val_loss: 0.0322 - val_accuracy: 0.9650\n",
            "Epoch 136/200\n",
            "25/25 [==============================] - 0s 2ms/step - loss: 0.0284 - accuracy: 0.9636 - val_loss: 0.0275 - val_accuracy: 0.9600\n",
            "Epoch 137/200\n",
            "25/25 [==============================] - 0s 2ms/step - loss: 0.0259 - accuracy: 0.9660 - val_loss: 0.0278 - val_accuracy: 0.9750\n",
            "Epoch 138/200\n",
            "25/25 [==============================] - 0s 3ms/step - loss: 0.0215 - accuracy: 0.9852 - val_loss: 0.0322 - val_accuracy: 0.9550\n",
            "Epoch 139/200\n",
            "25/25 [==============================] - 0s 3ms/step - loss: 0.0278 - accuracy: 0.9695 - val_loss: 0.0224 - val_accuracy: 0.9700\n",
            "Epoch 140/200\n",
            "25/25 [==============================] - 0s 2ms/step - loss: 0.0349 - accuracy: 0.9481 - val_loss: 0.0230 - val_accuracy: 0.9650\n",
            "Epoch 141/200\n",
            "25/25 [==============================] - 0s 2ms/step - loss: 0.0268 - accuracy: 0.9670 - val_loss: 0.0272 - val_accuracy: 0.9600\n",
            "Epoch 142/200\n",
            "25/25 [==============================] - 0s 2ms/step - loss: 0.0310 - accuracy: 0.9619 - val_loss: 0.0261 - val_accuracy: 0.9650\n",
            "Epoch 143/200\n",
            "25/25 [==============================] - 0s 3ms/step - loss: 0.0301 - accuracy: 0.9663 - val_loss: 0.0271 - val_accuracy: 0.9650\n",
            "Epoch 144/200\n",
            "25/25 [==============================] - 0s 3ms/step - loss: 0.0242 - accuracy: 0.9764 - val_loss: 0.0255 - val_accuracy: 0.9650\n",
            "Epoch 145/200\n",
            "25/25 [==============================] - 0s 3ms/step - loss: 0.0224 - accuracy: 0.9723 - val_loss: 0.0298 - val_accuracy: 0.9550\n",
            "Epoch 146/200\n",
            "25/25 [==============================] - 0s 3ms/step - loss: 0.0241 - accuracy: 0.9764 - val_loss: 0.0212 - val_accuracy: 0.9800\n",
            "Epoch 147/200\n",
            "25/25 [==============================] - 0s 2ms/step - loss: 0.0264 - accuracy: 0.9728 - val_loss: 0.0238 - val_accuracy: 0.9700\n",
            "Epoch 148/200\n",
            "25/25 [==============================] - 0s 2ms/step - loss: 0.0224 - accuracy: 0.9732 - val_loss: 0.0256 - val_accuracy: 0.9650\n",
            "Epoch 149/200\n",
            "25/25 [==============================] - 0s 2ms/step - loss: 0.0279 - accuracy: 0.9586 - val_loss: 0.0233 - val_accuracy: 0.9750\n",
            "Epoch 150/200\n",
            "25/25 [==============================] - 0s 3ms/step - loss: 0.0226 - accuracy: 0.9733 - val_loss: 0.0306 - val_accuracy: 0.9600\n",
            "Epoch 151/200\n",
            "25/25 [==============================] - 0s 3ms/step - loss: 0.0205 - accuracy: 0.9691 - val_loss: 0.0209 - val_accuracy: 0.9800\n",
            "Epoch 152/200\n",
            "25/25 [==============================] - 0s 2ms/step - loss: 0.0211 - accuracy: 0.9688 - val_loss: 0.0331 - val_accuracy: 0.9550\n",
            "Epoch 153/200\n",
            "25/25 [==============================] - 0s 2ms/step - loss: 0.0268 - accuracy: 0.9625 - val_loss: 0.0272 - val_accuracy: 0.9600\n",
            "Epoch 154/200\n",
            "25/25 [==============================] - 0s 3ms/step - loss: 0.0271 - accuracy: 0.9665 - val_loss: 0.0232 - val_accuracy: 0.9750\n",
            "Epoch 155/200\n",
            "25/25 [==============================] - 0s 3ms/step - loss: 0.0248 - accuracy: 0.9654 - val_loss: 0.0239 - val_accuracy: 0.9650\n",
            "Epoch 156/200\n",
            "25/25 [==============================] - 0s 3ms/step - loss: 0.0217 - accuracy: 0.9761 - val_loss: 0.0294 - val_accuracy: 0.9650\n",
            "Epoch 157/200\n",
            "25/25 [==============================] - 0s 3ms/step - loss: 0.0232 - accuracy: 0.9745 - val_loss: 0.0223 - val_accuracy: 0.9700\n",
            "Epoch 158/200\n",
            "25/25 [==============================] - 0s 2ms/step - loss: 0.0269 - accuracy: 0.9720 - val_loss: 0.0242 - val_accuracy: 0.9650\n",
            "Epoch 159/200\n",
            "25/25 [==============================] - 0s 2ms/step - loss: 0.0224 - accuracy: 0.9716 - val_loss: 0.0297 - val_accuracy: 0.9650\n",
            "Epoch 160/200\n",
            "25/25 [==============================] - 0s 2ms/step - loss: 0.0231 - accuracy: 0.9742 - val_loss: 0.0253 - val_accuracy: 0.9650\n",
            "Epoch 161/200\n",
            "25/25 [==============================] - 0s 3ms/step - loss: 0.0254 - accuracy: 0.9665 - val_loss: 0.0235 - val_accuracy: 0.9700\n",
            "Epoch 162/200\n",
            "25/25 [==============================] - 0s 3ms/step - loss: 0.0202 - accuracy: 0.9842 - val_loss: 0.0186 - val_accuracy: 0.9750\n",
            "Epoch 163/200\n",
            "25/25 [==============================] - 0s 2ms/step - loss: 0.0207 - accuracy: 0.9800 - val_loss: 0.0281 - val_accuracy: 0.9550\n",
            "Epoch 164/200\n",
            "25/25 [==============================] - 0s 2ms/step - loss: 0.0198 - accuracy: 0.9775 - val_loss: 0.0347 - val_accuracy: 0.9400\n",
            "Epoch 165/200\n",
            "25/25 [==============================] - 0s 3ms/step - loss: 0.0289 - accuracy: 0.9560 - val_loss: 0.0238 - val_accuracy: 0.9700\n",
            "Epoch 166/200\n",
            "25/25 [==============================] - 0s 3ms/step - loss: 0.0224 - accuracy: 0.9691 - val_loss: 0.0279 - val_accuracy: 0.9750\n",
            "Epoch 167/200\n",
            "25/25 [==============================] - 0s 3ms/step - loss: 0.0206 - accuracy: 0.9831 - val_loss: 0.0226 - val_accuracy: 0.9800\n",
            "Epoch 168/200\n",
            "25/25 [==============================] - 0s 3ms/step - loss: 0.0216 - accuracy: 0.9780 - val_loss: 0.0241 - val_accuracy: 0.9650\n",
            "Epoch 169/200\n",
            "25/25 [==============================] - 0s 3ms/step - loss: 0.0229 - accuracy: 0.9753 - val_loss: 0.0293 - val_accuracy: 0.9600\n",
            "Epoch 170/200\n",
            "25/25 [==============================] - 0s 3ms/step - loss: 0.0250 - accuracy: 0.9599 - val_loss: 0.0199 - val_accuracy: 0.9750\n",
            "Epoch 171/200\n",
            "25/25 [==============================] - 0s 3ms/step - loss: 0.0200 - accuracy: 0.9796 - val_loss: 0.0251 - val_accuracy: 0.9600\n",
            "Epoch 172/200\n",
            "25/25 [==============================] - 0s 3ms/step - loss: 0.0217 - accuracy: 0.9729 - val_loss: 0.0211 - val_accuracy: 0.9700\n",
            "Epoch 173/200\n",
            "25/25 [==============================] - 0s 2ms/step - loss: 0.0215 - accuracy: 0.9728 - val_loss: 0.0232 - val_accuracy: 0.9700\n",
            "Epoch 174/200\n",
            "25/25 [==============================] - 0s 2ms/step - loss: 0.0203 - accuracy: 0.9807 - val_loss: 0.0216 - val_accuracy: 0.9700\n",
            "Epoch 175/200\n",
            "25/25 [==============================] - 0s 3ms/step - loss: 0.0221 - accuracy: 0.9739 - val_loss: 0.0210 - val_accuracy: 0.9800\n",
            "Epoch 176/200\n",
            "25/25 [==============================] - 0s 3ms/step - loss: 0.0182 - accuracy: 0.9746 - val_loss: 0.0187 - val_accuracy: 0.9700\n",
            "Epoch 177/200\n",
            "25/25 [==============================] - 0s 2ms/step - loss: 0.0208 - accuracy: 0.9748 - val_loss: 0.0217 - val_accuracy: 0.9800\n",
            "Epoch 178/200\n",
            "25/25 [==============================] - 0s 3ms/step - loss: 0.0193 - accuracy: 0.9810 - val_loss: 0.0200 - val_accuracy: 0.9800\n",
            "Epoch 179/200\n",
            "25/25 [==============================] - 0s 3ms/step - loss: 0.0201 - accuracy: 0.9714 - val_loss: 0.0259 - val_accuracy: 0.9600\n",
            "Epoch 180/200\n",
            "25/25 [==============================] - 0s 3ms/step - loss: 0.0224 - accuracy: 0.9708 - val_loss: 0.0282 - val_accuracy: 0.9600\n",
            "Epoch 181/200\n",
            "25/25 [==============================] - 0s 3ms/step - loss: 0.0190 - accuracy: 0.9739 - val_loss: 0.0213 - val_accuracy: 0.9700\n",
            "Epoch 182/200\n",
            "25/25 [==============================] - 0s 3ms/step - loss: 0.0218 - accuracy: 0.9703 - val_loss: 0.0223 - val_accuracy: 0.9700\n",
            "Epoch 183/200\n",
            "25/25 [==============================] - 0s 2ms/step - loss: 0.0213 - accuracy: 0.9711 - val_loss: 0.0216 - val_accuracy: 0.9650\n",
            "Epoch 184/200\n",
            "25/25 [==============================] - 0s 2ms/step - loss: 0.0204 - accuracy: 0.9751 - val_loss: 0.0389 - val_accuracy: 0.9450\n",
            "Epoch 185/200\n",
            "25/25 [==============================] - 0s 2ms/step - loss: 0.0230 - accuracy: 0.9667 - val_loss: 0.0209 - val_accuracy: 0.9800\n",
            "Epoch 186/200\n",
            "25/25 [==============================] - 0s 3ms/step - loss: 0.0188 - accuracy: 0.9825 - val_loss: 0.0252 - val_accuracy: 0.9700\n",
            "Epoch 187/200\n",
            "25/25 [==============================] - 0s 2ms/step - loss: 0.0197 - accuracy: 0.9776 - val_loss: 0.0270 - val_accuracy: 0.9650\n",
            "Epoch 188/200\n",
            "25/25 [==============================] - 0s 3ms/step - loss: 0.0193 - accuracy: 0.9779 - val_loss: 0.0199 - val_accuracy: 0.9750\n",
            "Epoch 189/200\n",
            "25/25 [==============================] - 0s 2ms/step - loss: 0.0174 - accuracy: 0.9810 - val_loss: 0.0247 - val_accuracy: 0.9650\n",
            "Epoch 190/200\n",
            "25/25 [==============================] - 0s 2ms/step - loss: 0.0190 - accuracy: 0.9722 - val_loss: 0.0198 - val_accuracy: 0.9700\n",
            "Epoch 191/200\n",
            "25/25 [==============================] - 0s 3ms/step - loss: 0.0195 - accuracy: 0.9766 - val_loss: 0.0193 - val_accuracy: 0.9700\n",
            "Epoch 192/200\n",
            "25/25 [==============================] - 0s 2ms/step - loss: 0.0223 - accuracy: 0.9711 - val_loss: 0.0263 - val_accuracy: 0.9700\n",
            "Epoch 193/200\n",
            "25/25 [==============================] - 0s 3ms/step - loss: 0.0193 - accuracy: 0.9810 - val_loss: 0.0229 - val_accuracy: 0.9700\n",
            "Epoch 194/200\n",
            "25/25 [==============================] - 0s 3ms/step - loss: 0.0228 - accuracy: 0.9707 - val_loss: 0.0212 - val_accuracy: 0.9800\n",
            "Epoch 195/200\n",
            "25/25 [==============================] - 0s 2ms/step - loss: 0.0184 - accuracy: 0.9765 - val_loss: 0.0206 - val_accuracy: 0.9800\n",
            "Epoch 196/200\n",
            "25/25 [==============================] - 0s 2ms/step - loss: 0.0177 - accuracy: 0.9816 - val_loss: 0.0214 - val_accuracy: 0.9700\n",
            "Epoch 197/200\n",
            "25/25 [==============================] - 0s 2ms/step - loss: 0.0193 - accuracy: 0.9796 - val_loss: 0.0289 - val_accuracy: 0.9550\n",
            "Epoch 198/200\n",
            "25/25 [==============================] - 0s 2ms/step - loss: 0.0227 - accuracy: 0.9723 - val_loss: 0.0192 - val_accuracy: 0.9700\n",
            "Epoch 199/200\n",
            "25/25 [==============================] - 0s 3ms/step - loss: 0.0164 - accuracy: 0.9809 - val_loss: 0.0329 - val_accuracy: 0.9550\n",
            "Epoch 200/200\n",
            "25/25 [==============================] - 0s 3ms/step - loss: 0.0217 - accuracy: 0.9690 - val_loss: 0.0266 - val_accuracy: 0.9650\n"
          ],
          "name": "stdout"
        }
      ]
    },
    {
      "cell_type": "code",
      "metadata": {
        "colab": {
          "base_uri": "https://localhost:8080/",
          "height": 312
        },
        "id": "1BI-lSYsWOHo",
        "outputId": "1c987466-674f-48d0-e4fd-03e4c6eb671a"
      },
      "source": [
        "lossCurve = history.history[\"loss\"]\n",
        "plt.plot(lossCurve, label=\"Train\")\n",
        "# plt.legend(loc='upper right')\n",
        "plt.title(\"Loss function\")\n",
        "plt.xlabel(\"epoch number\")"
      ],
      "execution_count": 14,
      "outputs": [
        {
          "output_type": "execute_result",
          "data": {
            "text/plain": [
              "Text(0.5, 0, 'epoch number')"
            ]
          },
          "metadata": {
            "tags": []
          },
          "execution_count": 14
        },
        {
          "output_type": "display_data",
          "data": {
            "image/png": "[encoded data removed]",
            "text/plain": [
              "<Figure size 432x288 with 1 Axes>"
            ]
          },
          "metadata": {
            "tags": [],
            "needs_background": "light"
          }
        }
      ]
    },
    {
      "cell_type": "code",
      "metadata": {
        "colab": {
          "base_uri": "https://localhost:8080/",
          "height": 296
        },
        "id": "uT9vg5KrWWjd",
        "outputId": "aa15aa99-7ae9-497d-e5bb-eb9492c3c25d"
      },
      "source": [
        "accuracyCurve = history.history[\"accuracy\"]\n",
        "plt.plot(accuracyCurve, label=\"Accuracy\")\n",
        "# plt.legend(loc='upper right')\n",
        "plt.ylabel(\"accuracy\")\n",
        "plt.xlabel(\"epoch number\")"
      ],
      "execution_count": 15,
      "outputs": [
        {
          "output_type": "execute_result",
          "data": {
            "text/plain": [
              "Text(0.5, 0, 'epoch number')"
            ]
          },
          "metadata": {
            "tags": []
          },
          "execution_count": 15
        },
        {
          "output_type": "display_data",
          "data": {
            "image/png": "[encoded data removed]",
            "text/plain": [
              "<Figure size 432x288 with 1 Axes>"
            ]
          },
          "metadata": {
            "tags": [],
            "needs_background": "light"
          }
        }
      ]
    },
    {
      "cell_type": "markdown",
      "metadata": {
        "id": "4KWFL6B9WbB-"
      },
      "source": [
        "Şimdi eğitimi tamamlanmış çok katmanlı yapay sinir ağımızı test edelim."
      ]
    },
    {
      "cell_type": "code",
      "metadata": {
        "colab": {
          "base_uri": "https://localhost:8080/",
          "height": 312
        },
        "id": "UZ0tYMgPWb-L",
        "outputId": "b7bb3974-73d3-4294-9773-858a69d9aa13"
      },
      "source": [
        "y = model.predict(x).round()\n",
        "plt.scatter(x[:,0],x[:,1], marker='.', color='b')\n",
        "# plt.legend(loc='upper right')\n",
        "plt.title(\"Generated 2d data\")\n",
        "plt.xlabel(\"x1\")\n",
        "plt.ylabel(\"x2\")\n",
        "\n",
        "for i, label in enumerate(t):\n",
        "  if (label != y[i]):\n",
        "    plt.scatter(x[i,0],x[i,1], marker='o', color='r') # edgecolors='none'\n",
        "plt.title(\"Generated 2d data\")\n",
        "plt.xlabel(\"x1\")\n",
        "plt.ylabel(\"x2\")"
      ],
      "execution_count": 16,
      "outputs": [
        {
          "output_type": "execute_result",
          "data": {
            "text/plain": [
              "Text(0, 0.5, 'x2')"
            ]
          },
          "metadata": {
            "tags": []
          },
          "execution_count": 16
        },
        {
          "output_type": "display_data",
          "data": {
            "image/png": "[encoded data removed]",
            "text/plain": [
              "<Figure size 432x288 with 1 Axes>"
            ]
          },
          "metadata": {
            "tags": [],
            "needs_background": "light"
          }
        }
      ]
    }
  ]
}